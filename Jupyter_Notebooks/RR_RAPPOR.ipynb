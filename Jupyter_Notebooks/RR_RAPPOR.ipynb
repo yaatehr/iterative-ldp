{
 "cells": [
  {
   "cell_type": "code",
   "execution_count": 7,
   "metadata": {},
   "outputs": [],
   "source": [
    "#%matplotlib inline\n",
    "import numpy as np\n",
    "import random\n",
    "import math\n",
    "import matplotlib.pyplot as plt\n",
    "import timeit\n",
    "from functions import *\n",
    "\n",
    "#The class for Randomized Response:\n",
    "class Randomized_Response:\n",
    "    def __init__(self, absz, pri_para): # absz: alphabet size, pri_para: privacy parameter\n",
    "        self.absz = absz #alphabet size k\n",
    "        self.exp = math.exp(pri_para) #privacy parameter\n",
    "        self.flip_prob = (self.absz - 1)/(math.exp(pri_para) + self.absz - 1) #flipping probability to maintain local privacy\n",
    "    \n",
    "    def encode_string(self, samples):\n",
    "        n = len(samples)\n",
    "        # Start by setting private_samples = samples.\n",
    "        private_samples_rr = np.copy(samples)\n",
    "        # Determine which samples need to be noised (\"flipped\").\n",
    "        flip = np.random.random_sample(n) < self.flip_prob\n",
    "        flip_samples = samples[flip]\n",
    "        # Select new samples uniformly at random to replace the original ones.\n",
    "        rand_samples = np.random.randint(0, self.absz - 1, len(flip_samples))\n",
    "        # Shift the samples if needed to avoid sampling the orginal samples.\n",
    "        rand_samples[rand_samples >= flip_samples] += 1\n",
    "        # Replace the original samples by the randomly selected ones.\n",
    "        private_samples_rr[flip] = rand_samples\n",
    "        return private_samples_rr\n",
    "    \n",
    "    def decode_string(self, out_samples, normalization = 0):\n",
    "        #normalization options: 0: clip and normalize(default)\n",
    "        #                       1: simplex projection\n",
    "        #                       else: no nomalization\n",
    "        n = len(out_samples)\n",
    "        (counts_rr,temp) = np.histogram(out_samples, range(self.absz+1))\n",
    "        # Estimate the PMF using the count vector.\n",
    "        p_rr = (counts_rr / float(n)) * ((self.exp  + self.absz - 1) /(self.exp - 1)) - 1.0 / (self.exp - 1)\n",
    "        #p_rr = decode_counts(counts_rr, epsilon, n, self.absz)\n",
    "        # Check if truncation and renormalization is required.\n",
    "\n",
    "        if normalization == 0: \n",
    "            p_rr = probability_normalize(p_rr) #clip and normalize\n",
    "        if normalization == 1:\n",
    "            p_rr = project_probability_simplex(p_rr) #simplex projection\n",
    "        return p_rr\n",
    "    \n",
    "class RAPPOR:\n",
    "    def __init__(self, absz, pri_para): # absz: alphabet size, pri_para: privacy parameter\n",
    "        self.absz = absz #alphabet size k\n",
    "        self.exp = math.exp(pri_para / 2.0) #privacy parameter\n",
    "        self.flip_prob = 1/(math.exp(pri_para/2.0) + 1) #flipping probability to maintain local privacy\n",
    "\n",
    "    def encode_string(self, samples):\n",
    "        n = len(samples)\n",
    "        users = range(n)\n",
    "        # One-hot encode the input integers.\n",
    "        private_samples_rappor = np.zeros((n, self.absz))\n",
    "        private_samples_rappor[users, samples] = 1\n",
    "        # Flip the RAPPOR encoded bits with probability self.flip_prob\n",
    "        flip = np.random.random_sample((n, self.absz))\n",
    "        return np.logical_xor(private_samples_rappor, flip < self.flip_prob)\n",
    "\n",
    "\n",
    "    def encode_string_light(self, samples):\n",
    "        #return to count vector of rappor responce, which is less memory intensive\n",
    "        #also return the cumulated time for adding rappor vectors, which should also be considered as decoding time.\n",
    "        n = len(samples)\n",
    "        users = range(n)\n",
    "        time = 0\n",
    "        counts = np.zeros(self.absz)\n",
    "        # One-hot encode the input integers.\n",
    "        for i in range(n):\n",
    "            private_samples_rappor = np.zeros(self.absz)\n",
    "            private_samples_rappor[samples[i]] = 1\n",
    "            # Flip the RAPPOR encoded bits with probability self.flip_prob\n",
    "            flip = np.random.random_sample(self.absz)\n",
    "            private_samples_rappor = np.logical_xor(private_samples_rappor, flip < self.flip_prob) \n",
    "            start_time = timeit.default_timer() #record adding time\n",
    "            counts = counts + private_samples_rappor # add rappor responce vector\n",
    "            time = time + timeit.default_timer() - start_time      \n",
    "        return counts,time\n",
    "\n",
    "    def encode_string_compress(self, samples):\n",
    "        #encode rappor responces into locations of one, which saves communcation budget when eps is large\n",
    "        n = len(samples)\n",
    "        out = [0]*n\n",
    "        # One-hot encode the input integers.\n",
    "        for i in range(n):\n",
    "            private_samples_rappor = np.zeros(self.absz)\n",
    "            private_samples_rappor[samples[i]] = 1\n",
    "            # Flip the RAPPOR encoded bits with probability self.flip_prob\n",
    "            flip = np.random.random_sample(self.absz)\n",
    "            private_samples_rappor = np.logical_xor(private_samples_rappor, flip < self.flip_prob) \n",
    "            out[i] = np.where(private_samples_rappor)[0] # get the locations of ones\n",
    "        out_list = np.concatenate(out)\n",
    "        return out_list\n",
    "    \n",
    "    def decode_counts(self, counts, n, normalization = 0):\n",
    "\n",
    "        #normalization options: 0: clip and normalize(default)\n",
    "        #                       1: simplex projection\n",
    "        #                       else: no nomalization\n",
    "        # Estimate the PMF using the count vector\n",
    "        \n",
    "        p_rappor = (counts / float(n)) * ((self.exp + 1) /(self.exp - 1)) - 1.0 / (self.exp - 1)\n",
    "        \n",
    "        if normalization == 0: \n",
    "            p_rappor = probability_normalize(p_rappor) #clip and normalize\n",
    "        if normalization == 1:\n",
    "            p_rappor = project_probability_simplex(p_rappor) #simplex projection\n",
    "\n",
    "        return p_rappor"
   ]
  },
  {
   "cell_type": "code",
   "execution_count": 13,
   "metadata": {},
   "outputs": [
    {
     "name": "stdout",
     "output_type": "stream",
     "text": [
      "l1 distance:  0.8529080338008995\n",
      "prob_sum:  1.0000000000000007\n",
      "l1 distance:  0.528989942919804\n",
      "prob_sum:  0.9999999999999981\n"
     ]
    },
    {
     "data": {
      "image/png": "[encoded data removed]",
      "text/plain": [
       "<matplotlib.figure.Figure at 0x110291358>"
      ]
     },
     "metadata": {},
     "output_type": "display_data"
    }
   ],
   "source": [
    "#Testing Script\n",
    "if __name__ == \"__main__\":\n",
    "    k = 100 #absz\n",
    "    n = 100000\n",
    "    elements = range(0,k) #ab\n",
    "    lbd = 0.8 #parameter for geometric dist\n",
    "    eps = 1 # privacy_para\n",
    "    prob = [(1-lbd)*math.pow(lbd,x)/(1-math.pow(lbd,k)) for x in elements] # geometric dist\n",
    "    #prob = [1/float(k)] * k\n",
    "    in_list = np.random.choice(elements, n, p=prob) #input symbols\n",
    "    rr = Randomized_Response(k,eps)\n",
    "    sample = rr.encode_string(in_list)\n",
    "    #(outp, temp) = np.histogram(sample,range(k+1))\n",
    "    #print outp\n",
    "    prob_est = rr.decode_string(sample) # estimate the original underlying distribution\n",
    "    print (\"l1 distance: \", str(np.linalg.norm([a_i - b_i for a_i, b_i in zip(prob, prob_est)], ord=1)))\n",
    "    print (\"prob_sum: \", str(sum(prob_est)))\n",
    "    prob_est = rr.decode_string(sample,1) # estimate the original underlying distribution\n",
    "    plt.plot(elements,prob)\n",
    "    plt.plot(elements,prob_est)\n",
    "    print (\"l1 distance: \", str(np.linalg.norm([a_i - b_i for a_i, b_i in zip(prob, prob_est)], ord=1)))\n",
    "    print (\"prob_sum: \", str(sum(prob_est)))"
   ]
  },
  {
   "cell_type": "code",
   "execution_count": 14,
   "metadata": {},
   "outputs": [
    {
     "name": "stdout",
     "output_type": "stream",
     "text": [
      "l1 distance:  0.39621377954553494\n",
      "prob_sum:  0.9999999999999999\n",
      "l1 distance:  0.22884253195951712\n",
      "prob_sum:  1.0000000000000009\n"
     ]
    },
    {
     "data": {
      "image/png": "[encoded data removed]",
      "text/plain": [
       "<matplotlib.figure.Figure at 0x1104dc400>"
      ]
     },
     "metadata": {},
     "output_type": "display_data"
    }
   ],
   "source": [
    "#Testing Script\n",
    "if __name__ == \"__main__\":\n",
    "    #sample = rappor_encoder(in_list, eps, k)\n",
    "    #outp = np.sum(sample, axis=0)\n",
    "    rappor = RAPPOR(k,eps)\n",
    "    out_list = rappor.encode_string_compress(in_list)\n",
    "    outp,temp = np.histogram(out_list,range(k+1))\n",
    "    prob_est = rappor.decode_counts(outp,n) # estimate the original underlying distribution\n",
    "    print (\"l1 distance: \", str(np.linalg.norm([a_i - b_i for a_i, b_i in zip(prob, prob_est)], ord=1)))\n",
    "    print (\"prob_sum: \", str(sum(prob_est)))\n",
    "    prob_est = rappor.decode_counts(outp,n,1) # estimate the original underlying distribution\n",
    "    plt.plot(elements,prob)\n",
    "    plt.plot(elements,prob_est)\n",
    "    #plt.plot(prob_est)\n",
    "    print (\"l1 distance: \", str(np.linalg.norm([a_i - b_i for a_i, b_i in zip(prob, prob_est)], ord=1)))\n",
    "    print (\"prob_sum: \", str(sum(prob_est)))"
   ]
  }
 ],
 "metadata": {
  "kernelspec": {
   "display_name": "Python 3",
   "language": "python",
   "name": "python3"
  },
  "language_info": {
   "codemirror_mode": {
    "name": "ipython",
    "version": 3
   },
   "file_extension": ".py",
   "mimetype": "text/x-python",
   "name": "python",
   "nbconvert_exporter": "python",
   "pygments_lexer": "ipython3",
   "version": "3.6.4"
  }
 },
 "nbformat": 4,
 "nbformat_minor": 2
}
